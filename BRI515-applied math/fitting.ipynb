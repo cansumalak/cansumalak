{
 "cells": [
  {
   "cell_type": "markdown",
   "metadata": {},
   "source": [
    "## Assignment 4"
   ]
  },
  {
   "cell_type": "markdown",
   "metadata": {},
   "source": [
    "**This code is for:**"
   ]
  },
  {
   "cell_type": "code",
   "execution_count": 4,
   "metadata": {},
   "outputs": [],
   "source": [
    "import numpy as np\n",
    "import matplotlib.pyplot as plt"
   ]
  },
  {
   "cell_type": "code",
   "execution_count": 5,
   "metadata": {},
   "outputs": [
    {
     "data": {
      "image/png": "[encoded data removed]",
      "text/plain": [
       "<Figure size 432x288 with 1 Axes>"
      ]
     },
     "metadata": {
      "needs_background": "light"
     },
     "output_type": "display_data"
    }
   ],
   "source": [
    "# x-coordinates of the 20 equally-spaced data points\n",
    "x = np.linspace(0, 58, 20)\n",
    "\n",
    "# y-coordinates of the 20 equally-spaced data points\n",
    "y = [\n",
    "    10000,\n",
    "    12000,\n",
    "    14000,\n",
    "    16000,\n",
    "    18000,\n",
    "    20000,\n",
    "    22000,\n",
    "    24000,\n",
    "    26000,\n",
    "    28000,\n",
    "    30000,\n",
    "    32000,\n",
    "    34000,\n",
    "    36000,\n",
    "    38000,\n",
    "    40000,\n",
    "    42000,\n",
    "    44000,\n",
    "    46000,\n",
    "    48000,\n",
    "]\n",
    "\n",
    "def linear_regression(x, y):\n",
    "    \"\"\"\n",
    "    Computes the linear regression of the data points (x, y).\n",
    "\n",
    "    Args:\n",
    "        x: A numpy array of the x-coordinates of the data points.\n",
    "        y: A numpy array of the y-coordinates of the data points.\n",
    "\n",
    "    Returns:\n",
    "        A tuple of the slope and intercept of the fitted line.\n",
    "    \"\"\"\n",
    "\n",
    "    n = len(x)\n",
    "    mean_x = np.mean(x)\n",
    "    mean_y = np.mean(y)\n",
    "\n",
    "    sum_xy = np.sum(x * y)\n",
    "    sum_x2 = np.sum(x ** 2)\n",
    "\n",
    "    slope = (sum_xy - n * mean_x * mean_y) / (sum_x2 - n * mean_x ** 2)\n",
    "    intercept = mean_y - slope * mean_x\n",
    "\n",
    "    return slope, intercept\n",
    "\n",
    "\n",
    "\n",
    "slope, intercept = linear_regression(x, y)\n",
    "\n",
    "# Plot the data points\n",
    "plt.plot(x, y, 'bo')\n",
    "\n",
    "# Plot the fitted line\n",
    "plt.plot(x, slope * x + intercept, 'r-')\n",
    "\n",
    "# Set the labels and title\n",
    "plt.xlabel('Days')\n",
    "plt.ylabel('Daily Visits')\n",
    "plt.title('Daily Visits to chat.openai.com')\n",
    "\n",
    "plt.show()\n",
    "\n"
   ]
  },
  {
   "cell_type": "code",
   "execution_count": null,
   "metadata": {},
   "outputs": [],
   "source": []
  }
 ],
 "metadata": {
  "kernelspec": {
   "display_name": "Python 3",
   "language": "python",
   "name": "python3"
  },
  "language_info": {
   "codemirror_mode": {
    "name": "ipython",
    "version": 3
   },
   "file_extension": ".py",
   "mimetype": "text/x-python",
   "name": "python",
   "nbconvert_exporter": "python",
   "pygments_lexer": "ipython3",
   "version": "3.8.3"
  }
 },
 "nbformat": 4,
 "nbformat_minor": 4
}
