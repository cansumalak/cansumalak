{
 "cells": [
  {
   "cell_type": "markdown",
   "metadata": {},
   "source": [
    "## Assignment 3"
   ]
  },
  {
   "cell_type": "markdown",
   "metadata": {},
   "source": [
    "**This code is for:** Creating a GaussSolve function which solves linear system of equations Ax=b for a square matrix A using forward elimination, backward substitution, and partial pivoting. Then I will compare whether forward elimination or backward substitution takes longest run. Finally, for the first part of the Part 1 I will compare how fast my GaussSolve function is compared to numpy.linalg.solve. For Part 2, solutions for truss problem and traffic flow problem were done."
   ]
  },
  {
   "cell_type": "code",
   "execution_count": 1,
   "metadata": {},
   "outputs": [],
   "source": [
    "#importing libraries\n",
    "import numpy as np\n",
    "import timeit\n",
    "import matplotlib.pyplot as plt"
   ]
  },
  {
   "cell_type": "markdown",
   "metadata": {},
   "source": [
    "## Part 1"
   ]
  },
  {
   "cell_type": "markdown",
   "metadata": {},
   "source": [
    "We define GaussSolve function to solve a linear system of equations.\n",
    "*How does it solve the linear system of equations?* = GaussSolve function first breaks down the system of equations into smaller pieces and then solves each component of the system. (using forward elimination, backward substitution, and partial pivoting.)\n",
    "\n",
    "> In the GaussSolve function we have two inputs (A and B). A matrix contains the coefficients of the equations, and the b vector contains the constants on the right-hand side of the equations.\n",
    "\n",
    "To put it differently, lets say we this example: \n",
    "\n",
    "x+y-z=-2\n",
    "\n",
    "2x-y+z=5\n",
    "\n",
    "-x+2y+2z=1\n",
    "\n",
    "Then A matrix is: \n",
    "\n",
    "[1, 1 -1]\n",
    "\n",
    "[2, -1, 1]\n",
    "\n",
    "[-1, 2, 2]\n",
    "\n",
    "And B vector is:\n",
    "[-2, 5, 1]\n",
    "\n",
    "We can represent this system using an augmented matrix:\n",
    "| 1, 1, -1 | -2|\n",
    "| 2, -1, 1 | 5 |\n",
    "| -1, 2, 2 | 1 |\n",
    "\n",
    "---------------"
   ]
  },
  {
   "cell_type": "markdown",
   "metadata": {},
   "source": [
    "**raise** function used to raise an exception or error and control the flow of program.\n",
    "\n",
    "*example:*\n",
    "\n",
    "x = -1\n",
    "if x < 0:\n",
    "  raise Exception(\"Sorry, no numbers below zero\")\n",
    "  \n",
    "**Then it will give:**\n",
    "\n",
    "Exception                                 Traceback (most recent call last)\n",
    "<ipython-input-3-2edc57024fbc> in <module>\n",
    "      2 \n",
    "      3 if x < 0:\n",
    "----> 4   raise Exception(\"Sorry, no numbers below zero\")\n",
    "\n",
    "**Exception: Sorry, no numbers below zero**\n",
    "    \n",
    "-----------------------"
   ]
  },
  {
   "cell_type": "markdown",
   "metadata": {},
   "source": [
    "## A"
   ]
  },
  {
   "cell_type": "code",
   "execution_count": 2,
   "metadata": {},
   "outputs": [],
   "source": [
    "# defining GaussSolve function with two input (A,b)\n",
    "def GaussSolve(A, b):\n",
    "    # Checking whether A is a square matrix\n",
    "    # A.shape[0]= number of rows in A matrix\n",
    "    # A.shape[1]= number of columns in A matrix\n",
    "    if A.shape[0] != A.shape[1]:\n",
    "        raise ValueError(\"Matrix A must be square.\")\n",
    "        \n",
    "    # Checking second condition (whether the dimensions of A and b fit)\n",
    "    # checking if number of equations = right-hand side value of one equation or not\n",
    "    if A.shape[0] != len(b):\n",
    "        raise ValueError(\"Dimensions of A and b must match.\")\n",
    "\n",
    "    # !!!!! ensuring data type are same is important to make code more understandable, improve efficiency, avoid datatype conflicts, \n",
    "    # A and b have a common data type (float)\n",
    "    # ndarray.astype(dtype, order='K', casting='unsafe', subok=True, copy=True)\n",
    "    A = A.astype(float)\n",
    "    b = b.astype(float)\n",
    "\n",
    "    # Storing number of equations or elements in vector b = length of vector b in the variable \"n\"\n",
    "    n = len(b)\n",
    "    \n",
    "    # Creating an array of zeros with n elements, storing in the x\n",
    "    # numpy.zeros(shape, dtype=float, order='C', *, like=None)\n",
    "    # I will use it in backward step\n",
    "    x = np.zeros(n)\n",
    "\n",
    "    # Initialize time variables\n",
    "    # check below for the question \"why we need to initialize timers?\"\n",
    "    time_partial_pivoting = 0.0\n",
    "    time_forward_elimination = 0.0\n",
    "    time_backward_substitution = 0.0\n",
    "\n",
    "    # Start-record the timer for the beginning of partial pivoting\n",
    "    # timeit.default_timer() = The default timer, which is always time.perf_counter(), returns float seconds\n",
    "    start_partial_pivoting = timeit.default_timer()\n",
    "        \n",
    "    # Partial Pivoting\n",
    "    for j in range(n):\n",
    "        # keeping track of index of the row with the largest absolute value in the current column.\n",
    "        max_row = j # setting max_row to the current row j\n",
    "        for k in range(j + 1, n):\n",
    "            # as our aim ==  finding the maximum absolute value in the remaining rows within the same column ==>j+1 = current row+1\n",
    "            # abs() function returns the absolute value of the given number\n",
    "            if abs(A[k, j]) > abs(A[max_row, j]): #checking whether absolute value of the element in row k and column j > absolute value of the element in max_row and column j \n",
    "                max_row = k # if absolute value of the current element > max_val, updating \"max_row\" to the k\n",
    "                #ensuring that the largest value is in the current row's position\n",
    "        if max_row != j: # if max index not equal to j\n",
    "            # if they are different = found a row with a larger absolute value in the same column which means a pivot operation is needed  \n",
    "            # thats why: swaping the j with the row indicated by max_row [wow with the largest absolute value to the current pivot position]\n",
    "            A[[j, max_row]] = A[[max_row, j]]\n",
    "            # must swap vector b too as i swap matrix A (making corresponding values for coefficient matrix and the right-hand side values same)\n",
    "            b[j], b[max_row] = b[max_row], b[j]\n",
    "\n",
    "        # Checking if the leading coefficient becomes 0\n",
    "        if A[j, j] == 0:\n",
    "            raise ValueError(\"Leading coefficient became 0 after partial pivoting. Cannot proceed.\")\n",
    "       \n",
    "        # Stop-record timer for the end of partial pivoting\n",
    "        end_partial_pivoting = timeit.default_timer()\n",
    "        # calculating time taken for the pivoting is calculated by subtracting the start time from the end time\n",
    "        time_partial_pivoting += end_partial_pivoting - start_partial_pivoting\n",
    "        # time_partial_pivoting (+=) accumulates the values each time this operation is performed.\n",
    "        \n",
    "\n",
    "        # Start-record the timer for beginning of forward elimination\n",
    "        start_forward_elimination = timeit.default_timer()\n",
    "        \n",
    "        # Forward elimination\n",
    "        # k = row index, j+1 because: eliminating values below the leading coefficient = not to include the current row j \n",
    "        for k in range(j + 1, n):\n",
    "            # calculating the multiple by dividing the element at row k, column j by the element at  row  j, column j.\n",
    "            # calculating multiplier value that will be used to subtract a multiple of row j from row k.\n",
    "            # it is for eliminating coefficients below the leading coefficient!!\n",
    "            factor = A[k, j] / A[j, j]\n",
    "            b[k] -= factor * b[j] # updating k-th element of b vector by subtracting rowMultiplier and the j-th element of b\n",
    "            # updating row k starting from j by subtracting rowMultiplier and elements in row j starting from column j\n",
    "            A[k, j:] -= factor * A[j, j:]\n",
    "            \n",
    "            # Stop-record the timer for the end of forward elimination\n",
    "            end_forward_elimination = timeit.default_timer()\n",
    "            # calculating time taken for the forward elimination step is calculated by subtracting the start time from the end time\n",
    "            time_forward_elimination += end_forward_elimination - start_forward_elimination\n",
    "\n",
    "    # Start-record the timer for beginning of the backward substitution\n",
    "    start_backward_substitution = timeit.default_timer()\n",
    "    \n",
    "    # Backward substitution\n",
    "    # Creating an array of zeros with n elements\n",
    "    for j in range(n - 1, -1, -1): # range(start_value, stop_value, step_size)\n",
    "        # finding the solution to the linear system of equations\n",
    "        # accepting two inputs (A and b) and return one output (x) - np.dot() takes two arrays as input and returns x as output\n",
    "        x[j] = (b[j] - np.dot(A[j, j + 1:], x[j + 1:])) / A[j, j]\n",
    "        # np.dot()= used to perform the dot product of two arrays (augmented_matrix[i, i+1:n] and x[i+1:])\n",
    "        # (dot product = mathematical operation that calculates the product of the corresponding elements of two arrays)        \n",
    "        # x[j+1:] = contains the values of the variables in the vector x starting at index j+1\n",
    "        # np.dot(A[j, j + 1:], x[j + 1:])) = calculating dot product\n",
    "        # Ax[j , j ] = ensuring that result is scaled-stable correctly by dividing to this\n",
    "        \n",
    "        # Stop-record the timer for end of the backward substitution\n",
    "        end_backward_substitution = timeit.default_timer()\n",
    "        # calculating time taken for the backward substitution step is calculated by subtracting the start time from the end time\n",
    "        time_backward_substitution += end_backward_substitution - start_backward_substitution\n",
    "\n",
    "    return x, time_partial_pivoting, time_forward_elimination, time_backward_substitution"
   ]
  },
  {
   "cell_type": "markdown",
   "metadata": {},
   "source": [
    "notes for timer:\n",
    "**which one is better? adding timer before the loop or inside the loop? what is different?**\n",
    "\n",
    "> Basically, to measure total time spent on the entire step, adding it before the loop will give more accurate measurement. Also it will add start-stop time of the step. But if I want to measure each pivot operation separately, I need to add after/within the loop"
   ]
  },
  {
   "cell_type": "markdown",
   "metadata": {},
   "source": [
    "**why we need to initialize timers?**\n",
    ">  without writing this code \"time_partial_pivoting = 0.0\", we can also calculate the time. However, if we don't initialize it may have random values or can lead to unpredictable behavior in the code. Also, initializing values to zero provides that consistency. Basically, it is more efficient and convenient. "
   ]
  },
  {
   "cell_type": "markdown",
   "metadata": {},
   "source": [
    "#### examples\n",
    "\n",
    "[for me to see how code works]\n",
    "\n",
    "Example / Numbers - Source : https://www.youtube.com/watch?v=eDb6iugi6Uk&t=362s"
   ]
  },
  {
   "cell_type": "code",
   "execution_count": 3,
   "metadata": {},
   "outputs": [
    {
     "name": "stdout",
     "output_type": "stream",
     "text": [
      "Solution: [ 1. -1.  2.]\n",
      "Time spent for partial pivoting: 0.001746500999999956 seconds\n",
      "Time spent for forward elimination: 6.150899999957105e-05 seconds\n",
      "Time spent for backward substitution: 0.0015929299999997149 seconds\n",
      "Error: Matrix A must be square.\n",
      "Error: Dimensions of A and b must match.\n",
      "Error: Leading coefficient became 0 after partial pivoting. Cannot proceed.\n"
     ]
    }
   ],
   "source": [
    "# Example 1\n",
    "\n",
    "# defining matrix A\n",
    "A1 = np.array([[1, 1, -1],\n",
    "              [2, -1, 1],\n",
    "              [-1, 2, 2]])\n",
    "# defining vector B\n",
    "b1 = np.array([-2, 5, 1])\n",
    "\n",
    "try:\n",
    "    x, time_partial_pivoting, time_forward_elimination, time_backward_substitution = GaussSolve(A1, b1)\n",
    "    print(\"Solution:\", x)\n",
    "    print(\"Time spent for partial pivoting:\", time_partial_pivoting, \"seconds\")\n",
    "    print(\"Time spent for forward elimination:\", time_forward_elimination, \"seconds\")\n",
    "    print(\"Time spent for backward substitution:\", time_backward_substitution, \"seconds\")\n",
    "except ValueError as e: #catching the error\n",
    "    print(\"Error:\", e)  #print error message stored in \"e\" if needed\n",
    "\n",
    "# Example 2: check whether the matrix A is square or not\n",
    "\n",
    "A2 = np.array([[1, 1, -1], \n",
    "               [2, -1, 1]])\n",
    "b2 = np.array([-2, 5, 1])\n",
    "\n",
    "try:\n",
    "    x2, time_partial_pivoting2, time_forward_elimination2, time_backward_substitution2 = GaussSolve(A2, b2)\n",
    "    print(\"Solution:\", x2)\n",
    "    print(\"Time spent for partial pivoting:\", time_partial_pivoting, \"seconds\")\n",
    "    print(\"Time spent for forward elimination:\", time_forward_elimination, \"seconds\")\n",
    "    print(\"Time spent for backward substitution:\", time_backward_substitution, \"seconds\")\n",
    "except ValueError as e: #catching the error\n",
    "    print(\"Error:\", e)  #print error message stored in \"e\" if needed\n",
    "\n",
    "# Example 3: whether the dimensions of b and A fit\n",
    "\n",
    "A3 = np.array([[1, 1, -1], \n",
    "               [2, -1, 1], \n",
    "               [-1, 2, 2]])\n",
    "b3 = np.array([-2, 5])\n",
    "\n",
    "try:\n",
    "    x3, time_partial_pivoting3, time_forward_elimination3, time_backward_substitution3 = GaussSolve(A3, b3)\n",
    "    print(\"Solution:\", x3)\n",
    "    print(\"Time spent for partial pivoting:\", time_partial_pivoting, \"seconds\")\n",
    "    print(\"Time spent for forward elimination:\", time_forward_elimination, \"seconds\")\n",
    "    print(\"Time spent for backward substitution:\", time_backward_substitution, \"seconds\")\n",
    "except ValueError as e: #catching the error\n",
    "    print(\"Error:\", e)  #print error message stored in \"e\" if needed\n",
    "    \n",
    "# Example 4: whether during the forward elimination step any of the leading coefficients after partial pivoting become 0\n",
    "\n",
    "A4 = np.array([[1, 2, 3], [2, 4, 6], [1, 3, 5]])\n",
    "b4 = np.array([1, 2, 3])\n",
    "\n",
    "try:\n",
    "    x4, time_partial_pivoting4, time_forward_elimination4, time_backward_substitution4 = GaussSolve(A4, b4)\n",
    "    print(\"Solution:\", x4)\n",
    "    print(\"Time spent for partial pivoting:\", time_partial_pivoting, \"seconds\")\n",
    "    print(\"Time spent for forward elimination:\", time_forward_elimination, \"seconds\")\n",
    "    print(\"Time spent for backward substitution:\", time_backward_substitution, \"seconds\")\n",
    "except ValueError as e: #catching the error\n",
    "    print(\"Error:\", e)  #print error message stored in \"e\" if needed\n",
    "    \n",
    "# The function accept two inputs (A and b) and return one output (x)"
   ]
  },
  {
   "cell_type": "markdown",
   "metadata": {},
   "source": [
    "## B\n",
    "**Comparing forward elimination or backward substitution to see which one takes longest to run**\n",
    "\n",
    "*timeit used in the def GaussSolve code above*"
   ]
  },
  {
   "cell_type": "code",
   "execution_count": 4,
   "metadata": {},
   "outputs": [
    {
     "name": "stdout",
     "output_type": "stream",
     "text": [
      "Time taken for forward elimination step: 0.8895150140000432 seconds\n",
      "Time taken for backward substitution step: 0.03637595399999549 seconds\n",
      "forward_elimination took the longest run.\n"
     ]
    }
   ],
   "source": [
    "# creating random 100x100 matrix and 100 element vector\n",
    "# 100 to demonstrate the functions' speed with a larger system of linear equations \n",
    "A = np.random.rand(100, 100) \n",
    "b = np.random.rand(100)\n",
    "\n",
    "try:\n",
    "    #unpacking return values from GaussSolve code\n",
    "    x, time_partial_pivoting, time_forward_elimination, time_backward_substitution = GaussSolve(A, b)\n",
    "    print(\"Time taken for forward elimination step:\", time_forward_elimination, \"seconds\")\n",
    "    print(\"Time taken for backward substitution step:\", time_backward_substitution, \"seconds\")\n",
    "\n",
    "    # Determining which method took the longest run and printing the results\n",
    "    if time_backward_substitution > time_forward_elimination:\n",
    "        print(\"backward_substitution took the longest run.\")\n",
    "    else:\n",
    "        print(\"forward_elimination took the longest run.\")\n",
    "except ValueError as e:\n",
    "    print(\"Error:\", e)\n"
   ]
  },
  {
   "cell_type": "markdown",
   "metadata": {},
   "source": [
    "                    ** Why forward elimination takes more longer than backward substitution? **\n",
    "\n",
    "Our goal in the forward elimination stage of Gaussian elimination is to reduce the matrix to its upper triangular form. In this procedure, multiples of a row are subtracted from other rows, and each element of a row is divided by the row's leading coefficient, as I applied in the code. The forward elimination step has an O(n^3) time complexity and requires many memory accesses and arithmetic operations. In contrast, the backward substitution step requires only a few operations to solve for the unknown variables and has an O(n^2) time complexity. Thats why, forward elimination takes more longer than backward substitution"
   ]
  },
  {
   "cell_type": "markdown",
   "metadata": {},
   "source": [
    "## C\n",
    "**Comparing GaussSolve function and numpy.linalg.solve**"
   ]
  },
  {
   "cell_type": "code",
   "execution_count": 5,
   "metadata": {},
   "outputs": [
    {
     "data": {
      "image/png": "[encoded data removed]",
      "text/plain": [
       "<Figure size 432x288 with 1 Axes>"
      ]
     },
     "metadata": {
      "needs_background": "light"
     },
     "output_type": "display_data"
    },
    {
     "name": "stdout",
     "output_type": "stream",
     "text": [
      "Matrix Size (n) = 1\n",
      "GaussSolve (seconds) = 0.0002926709999999666\n",
      "numpy.linalg.solve (seconds) = 0.005400931999999692\n",
      "Speed up = 0.054188980716658404\n",
      "\n",
      "Matrix Size (n) = 10\n",
      "GaussSolve (seconds) = 0.016963030000000323\n",
      "numpy.linalg.solve (seconds) = 0.007346683999999826\n",
      "Speed up = 2.3089369299129685\n",
      "\n",
      "Matrix Size (n) = 20\n",
      "GaussSolve (seconds) = 0.021704694000000302\n",
      "numpy.linalg.solve (seconds) = 0.001726247000000125\n",
      "Speed up = 12.573342053598777\n",
      "\n",
      "Matrix Size (n) = 50\n",
      "GaussSolve (seconds) = 0.12145482199999957\n",
      "numpy.linalg.solve (seconds) = 0.004479139000000298\n",
      "Speed up = 27.11566263069565\n",
      "\n",
      "Matrix Size (n) = 100\n",
      "GaussSolve (seconds) = 0.45412827200000017\n",
      "numpy.linalg.solve (seconds) = 0.0034589620000002874\n",
      "Speed up = 131.2903327645584\n",
      "\n",
      "Matrix Size (n) = 500\n",
      "GaussSolve (seconds) = 11.83861175\n",
      "numpy.linalg.solve (seconds) = 0.04516773600000157\n",
      "Speed up = 262.10327987215453\n",
      "\n",
      "Matrix Size (n) = 1000\n",
      "GaussSolve (seconds) = 53.978483444\n",
      "numpy.linalg.solve (seconds) = 0.18492197299998736\n",
      "Speed up = 291.8986995883052\n",
      "\n"
     ]
    }
   ],
   "source": [
    "# Sizes to test n=1,10,20,50,100,500,1000\n",
    "# nxn different matrices\n",
    "sizes = [1, 10, 20, 50, 100, 500, 1000]\n",
    "\n",
    "# Running each matrix size 20 times for each problem\n",
    "num_iterations = 20\n",
    "\n",
    "# Creating lists to store execution times\n",
    "#GaussSolve that I defined\n",
    "gauss_solve_times = []\n",
    "#NumPy's numpy.linalg.solve\n",
    "numpy_solve_times = []\n",
    "#I want to store speed up for analysis\n",
    "speedup_times = []\n",
    "\n",
    "# iterating over the elements in the sizes list\n",
    "for n in sizes:\n",
    "    # random nxn matrix and n vector\n",
    "    A = np.random.randn(n, n)\n",
    "    b = np.random.randn(n)\n",
    "\n",
    "    # Measuring time of GaussSolve function\n",
    "    # using lambda function to calls GaussSolve(A, b) for timeit function\n",
    "    gauss_time = timeit.timeit(lambda: GaussSolve(A, b), number=num_iterations)\n",
    "    # number=num_iterations = number of times (which is 20 times) to obtain an average execution time. \n",
    "\n",
    "    # Measuring time of numpy.linalg.solve\n",
    "    numpy_time = timeit.timeit(lambda: np.linalg.solve(A, b), number=num_iterations)\n",
    "\n",
    "    # Calculating speedup (how fast my function compared to numpy_solve_times)\n",
    "    speedup = gauss_time / numpy_time\n",
    "\n",
    "    # appending the result in gauss_solve_times list\n",
    "    gauss_solve_times.append(gauss_time)\n",
    "    # appending the result in numpy_solve_times list\n",
    "    numpy_solve_times.append(numpy_time)\n",
    "    # appending the speed in speed list\n",
    "    speedup_times.append(speedup)\n",
    "\n",
    "# Ploting the results\n",
    "plt.plot(sizes, gauss_solve_times, label='GaussSolve')\n",
    "plt.plot(sizes, numpy_solve_times, label='numpy.linalg.solve')\n",
    "plt.xlabel('Matrix Size (n)') # label for X axis\n",
    "plt.ylabel('Execution Time (seconds)') # label for Y axis\n",
    "plt.legend()\n",
    "plt.title('GaussSolve vs. numpy.linalg.solve Performance') \n",
    "plt.grid(True)\n",
    "plt.show() # showing the plot\n",
    "\n",
    "# Printing the execution time of GaussSolve and numpy.linalg.solve for each matrix size\n",
    "# zip(iterator1, iterator2, iterator3 ...)\n",
    "for size, gauss_time, numpy_time, speedup in zip(sizes, gauss_solve_times, numpy_solve_times, speedup_times):\n",
    "    print('Matrix Size (n) = {}'.format(size))\n",
    "    print('GaussSolve (seconds) = {}'.format(gauss_time))\n",
    "    print('numpy.linalg.solve (seconds) = {}'.format(numpy_time))\n",
    "    print('Speed up = {}'.format(speedup))\n",
    "    print()\n",
    "    \n",
    "#zip = Iterables (which may be zero or more) are passed to the zip() method, which aggregates them into a tuple and returns it."
   ]
  },
  {
   "cell_type": "markdown",
   "metadata": {},
   "source": [
    "                       **  why GaussSolve function is slower than numpy.linalg.solve?  **\n",
    "                        \n",
    "As we can above, \"numpy.linalg.solve\" is consistently faster than \"GaussSolve\", especially for larger matrices.  There are several reasons why \"numpy.linalg.solve\" is faster than \"GaussSolve\".\n",
    "\n",
    "Firstly, \"numpy.linalg.solve\" is a built-in function in C, while I created and defined the \"GaussSolve\" function in Python. Since C is a compiled language, it is faster than Python, which is an interpreted language.\n",
    "\n",
    "Second, \"numpy.linalg.solve\" performs better since it solves linear equations using a variety of methods and algorithms. However, \"GaussSolve\" is a simple implementation of Gaussian elimination.\n",
    "\n",
    "Overall, when it comes to solving linear equations, \"numpy.linalg.solve\" is a better option than \"GaussSolve\". It offers significantly faster, easy to use, and greater accuracy."
   ]
  },
  {
   "cell_type": "markdown",
   "metadata": {},
   "source": [
    "## Part2"
   ]
  },
  {
   "cell_type": "markdown",
   "metadata": {},
   "source": [
    "## A\n",
    "Use your code to solve the simple truss problem from class to determine the six unknown forces F1,F2,F3,H2,V2,V3. See the class material for the layout of the problem and for the matrix. You can use “kg” as the force unit"
   ]
  },
  {
   "cell_type": "markdown",
   "metadata": {},
   "source": [
    "    [A]{x}={b} EQUATION\n",
    "\n",
    "    [ -0.866 0  0.5  0 0 0 ] [F1] = [0]\n",
    "    [ -0.5  0  -0.866 0 0 0 ] [F2] = [-1000]\n",
    "    [ 0.866 1 0 1 0 0 ] [F3] = [0]\n",
    "    [ 0.5 0 0 0 1 0] [H2] = [0]\n",
    "    [0 -1 -0.5 0 0 0] [V2] = [0]\n",
    "    [ 0 0 0.866 0 0 1] [V3] = [0]\n",
    "    \n",
    "    \n",
    "    -0.866F1 + 0F2 + 0.5F3 + 0H2 + 0V2 + 0V3 = 0\n",
    "    -0.5F1 + 0F2 + 0.866F3 + 0H2 + 0V2 + 0V3 = -1000\n",
    "    0.866F1 + 1F2 + 0F3 + 1H2 + 0V2 + 0V3 = 0\n",
    "    0.5F1 + 0F2 + 0F3 + 0H2 + 1V2 + 0V3 = 0\n",
    "    0F1 - 1F2 - 0.5 F3 + 0H2 + 0V2 + 0V3 = 0 \n",
    "    0F1 + 0F2 + 0.866F3 + 0H2 + 0V2 + 1V3 = 0 \n",
    "    \n",
    "    THEN IT IS:\n",
    "    \n",
    "    -0.866F1 + 0.5F3 = 0\n",
    "    -0.5F1 - 0.866F3 = -1000\n",
    "    0.866F1 + 1F2 + 1H2 = 0\n",
    "    0.5F1 + 1V2 = 0\n",
    "    -1F2 - 0.5 F3 = 0 \n",
    "    0.866F3 + 1V3 = 0 "
   ]
  },
  {
   "cell_type": "code",
   "execution_count": 8,
   "metadata": {},
   "outputs": [
    {
     "name": "stdout",
     "output_type": "stream",
     "text": [
      "Solution: (array([ 500.02200097, -433.01905284,  866.03810568,    0.        ,\n",
      "       -250.01100048, -749.98899952]), 0.0009124769999715454, 0.000362585999937437, 0.00122259700003724)\n"
     ]
    }
   ],
   "source": [
    "# Coefficient matrix A\n",
    "# row enchelon form \n",
    "A6 = np.array([[-0.866, 0, 0.5, 0, 0, 0],\n",
    "              [-0.5, 0, -0.866, 0, 0, 0],\n",
    "              [0.866, 1, 0, 1, 0, 0],\n",
    "              [0.5, 0, 0, 0, 1, 0],\n",
    "              [0, -1, -0.5, 0, 0, 0],\n",
    "              [0, 0, 0.866, 0, 0, 1]])\n",
    "\n",
    "# Right-hand side vector b\n",
    "b6 = np.array([0, -1000, 0, 0, 0, 0])\n",
    "\n",
    "# Solve the system of equations using GaussSolve\n",
    "try:\n",
    "    x6 = GaussSolve(A6, b6)\n",
    "    print(\"Solution:\", x6)\n",
    "except ValueError as e:\n",
    "    print(\"Error:\", e)"
   ]
  },
  {
   "cell_type": "markdown",
   "metadata": {},
   "source": [
    "## B\n",
    "Use your code to solve a traffic flow problem. In the picture below, you see a cutout of a city with different streets and junctions. Since you have traffic cameras positioned at the exits of the block, you can measure how many cars enter and exit the block. These numbers are given next to the arrows and all streets are ONE-WAY streets. Your task is to find out the missing numbers x1, x2, x3, x4 using a system of linear equations."
   ]
  },
  {
   "cell_type": "markdown",
   "metadata": {},
   "source": [
    "    NODE   FLOW IN   FLOW OUT  EQUATION\n",
    "    A      200+100   X1+X4     X1+X4=300\n",
    "    B      X1+X2     100+150   X1+X2=250\n",
    "    C      50+50     X2+X3     X2+X3=100\n",
    "    D      X3+X4     100+50    X3+X4=150\n",
    "    \n",
    "    to have balanced networtk flow in = flow out \n",
    "    \n",
    "    X1+X4=300\n",
    "    X1+X2=250\n",
    "    X2+X3=100\n",
    "    X3+X4=150\n",
    "    \n",
    "    [ 1  0  0  1 | 300 ]\n",
    "    [ 1  1  0  0 | 250 ]\n",
    "    [ 0  1  1  0 | 100 ]\n",
    "    [ 0  0  1  1 | 150 ]"
   ]
  },
  {
   "cell_type": "code",
   "execution_count": 7,
   "metadata": {},
   "outputs": [
    {
     "name": "stdout",
     "output_type": "stream",
     "text": [
      "Solution: (array([300., -50., 150.,   0.]), 0.00011725500002057743, 6.341400003861963e-05, 3.634099998350848e-05)\n"
     ]
    }
   ],
   "source": [
    "# Define the augmented matrix A and the constants vector b\n",
    "A5 = np.array([[1, 0, 0, 1],\n",
    "     [1, 1, 0, 1],\n",
    "     [0, 1, 1, 0],\n",
    "     [0, 0, 1, 1]])\n",
    "\n",
    "b5 = np.array([300, 250, 100, 150])\n",
    "\n",
    "# Use the gaussSolve function to find the solutions\n",
    "solutions = GaussSolve(A,b)\n",
    "\n",
    "# Solve the system of equations using GaussSolve\n",
    "try:\n",
    "    x5 = GaussSolve(A5, b5)\n",
    "    print(\"Solution:\", x5)\n",
    "except ValueError as e:\n",
    "    print(\"Error:\", e)\n"
   ]
  }
 ],
 "metadata": {
  "kernelspec": {
   "display_name": "Python 3",
   "language": "python",
   "name": "python3"
  },
  "language_info": {
   "codemirror_mode": {
    "name": "ipython",
    "version": 3
   },
   "file_extension": ".py",
   "mimetype": "text/x-python",
   "name": "python",
   "nbconvert_exporter": "python",
   "pygments_lexer": "ipython3",
   "version": "3.8.3"
  }
 },
 "nbformat": 4,
 "nbformat_minor": 4
}
